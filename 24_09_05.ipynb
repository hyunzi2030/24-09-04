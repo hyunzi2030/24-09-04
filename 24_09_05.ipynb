{
  "nbformat": 4,
  "nbformat_minor": 0,
  "metadata": {
    "colab": {
      "provenance": []
    },
    "kernelspec": {
      "name": "python3",
      "display_name": "Python 3"
    },
    "language_info": {
      "name": "python"
    }
  },
  "cells": [
    {
      "cell_type": "code",
      "source": [
        "import pylab as py\n",
        "\n",
        "x_deg = py.arange(-180, 180+1,)\n",
        "x_rad = py.deg2rad(x_deg)\n",
        "y=py.sin(x_rad)\n",
        "py.plot(x_deg,y)\n",
        "\n",
        "py,xlabel('x(deg)')\n",
        "py,ylabel('sin(x)')\n",
        "py,grid(True)\n"
      ],
      "metadata": {
        "id": "eNCkHZ1KddeS"
      },
      "execution_count": null,
      "outputs": []
    },
    {
      "cell_type": "markdown",
      "source": [
        "##이 제목은 2단계"
      ],
      "metadata": {
        "id": "N7WLyHYhhasJ"
      }
    },
    {
      "cell_type": "code",
      "source": [],
      "metadata": {
        "id": "t6q-Rg0ZenGN"
      },
      "execution_count": null,
      "outputs": []
    }
  ]
}